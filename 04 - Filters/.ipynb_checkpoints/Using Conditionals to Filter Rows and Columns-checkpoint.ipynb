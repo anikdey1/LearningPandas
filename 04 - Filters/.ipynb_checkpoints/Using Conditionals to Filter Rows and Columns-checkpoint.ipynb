{
 "cells": [
  {
   "cell_type": "code",
   "execution_count": 1,
   "id": "1fffeda2-9944-4893-b0be-978ed7866e45",
   "metadata": {},
   "outputs": [],
   "source": [
    "import pandas as pd"
   ]
  },
  {
   "cell_type": "code",
   "execution_count": 4,
   "id": "a31900f0-8a2c-4511-b342-16a50990cb3a",
   "metadata": {},
   "outputs": [
    {
     "data": {
      "text/html": [
       "<div>\n",
       "<style scoped>\n",
       "    .dataframe tbody tr th:only-of-type {\n",
       "        vertical-align: middle;\n",
       "    }\n",
       "\n",
       "    .dataframe tbody tr th {\n",
       "        vertical-align: top;\n",
       "    }\n",
       "\n",
       "    .dataframe thead th {\n",
       "        text-align: right;\n",
       "    }\n",
       "</style>\n",
       "<table border=\"1\" class=\"dataframe\">\n",
       "  <thead>\n",
       "    <tr style=\"text-align: right;\">\n",
       "      <th></th>\n",
       "      <th>id</th>\n",
       "      <th>first_name</th>\n",
       "      <th>last_name</th>\n",
       "      <th>email_address</th>\n",
       "    </tr>\n",
       "  </thead>\n",
       "  <tbody>\n",
       "    <tr>\n",
       "      <th>0</th>\n",
       "      <td>1001</td>\n",
       "      <td>Alice</td>\n",
       "      <td>Zane</td>\n",
       "      <td>a_zane@email.com</td>\n",
       "    </tr>\n",
       "    <tr>\n",
       "      <th>1</th>\n",
       "      <td>1002</td>\n",
       "      <td>Bartholomew</td>\n",
       "      <td>Yeoman</td>\n",
       "      <td>b_yeoman@email.com</td>\n",
       "    </tr>\n",
       "    <tr>\n",
       "      <th>2</th>\n",
       "      <td>1003</td>\n",
       "      <td>Claire</td>\n",
       "      <td>Xavier</td>\n",
       "      <td>c_xavier@email.com</td>\n",
       "    </tr>\n",
       "  </tbody>\n",
       "</table>\n",
       "</div>"
      ],
      "text/plain": [
       "     id   first_name last_name       email_address\n",
       "0  1001        Alice      Zane    a_zane@email.com\n",
       "1  1002  Bartholomew    Yeoman  b_yeoman@email.com\n",
       "2  1003       Claire    Xavier  c_xavier@email.com"
      ]
     },
     "execution_count": 4,
     "metadata": {},
     "output_type": "execute_result"
    }
   ],
   "source": [
    "people_dict = {\n",
    "    'id': ['1001', '1002', '1003'],\n",
    "    'first_name': ['Alice', 'Bartholomew', 'Claire'],\n",
    "    'last_name': ['Zane', 'Yeoman', 'Xavier'],\n",
    "    'email_address': ['a_zane@email.com', 'b_yeoman@email.com', 'c_xavier@email.com']\n",
    "    }\n",
    "\n",
    "people_df = pd.DataFrame(people_dict)\n",
    "people_df"
   ]
  },
  {
   "cell_type": "code",
   "execution_count": 6,
   "id": "904f63e3-d274-40a8-9258-4d46c44dd8ed",
   "metadata": {},
   "outputs": [],
   "source": [
    "last_name_filter = (people_df['last_name'] == 'Zane')"
   ]
  },
  {
   "cell_type": "code",
   "execution_count": 7,
   "id": "92c57d6f-1563-43b3-b7e1-6c08fcaeec34",
   "metadata": {},
   "outputs": [
    {
     "data": {
      "text/html": [
       "<div>\n",
       "<style scoped>\n",
       "    .dataframe tbody tr th:only-of-type {\n",
       "        vertical-align: middle;\n",
       "    }\n",
       "\n",
       "    .dataframe tbody tr th {\n",
       "        vertical-align: top;\n",
       "    }\n",
       "\n",
       "    .dataframe thead th {\n",
       "        text-align: right;\n",
       "    }\n",
       "</style>\n",
       "<table border=\"1\" class=\"dataframe\">\n",
       "  <thead>\n",
       "    <tr style=\"text-align: right;\">\n",
       "      <th></th>\n",
       "      <th>id</th>\n",
       "      <th>first_name</th>\n",
       "      <th>last_name</th>\n",
       "      <th>email_address</th>\n",
       "    </tr>\n",
       "  </thead>\n",
       "  <tbody>\n",
       "    <tr>\n",
       "      <th>0</th>\n",
       "      <td>1001</td>\n",
       "      <td>Alice</td>\n",
       "      <td>Zane</td>\n",
       "      <td>a_zane@email.com</td>\n",
       "    </tr>\n",
       "  </tbody>\n",
       "</table>\n",
       "</div>"
      ],
      "text/plain": [
       "     id first_name last_name     email_address\n",
       "0  1001      Alice      Zane  a_zane@email.com"
      ]
     },
     "execution_count": 7,
     "metadata": {},
     "output_type": "execute_result"
    }
   ],
   "source": [
    "people_df[last_name_filter]"
   ]
  },
  {
   "cell_type": "code",
   "execution_count": null,
   "id": "95942c62-9798-4c2d-8c3e-3aba28324865",
   "metadata": {},
   "outputs": [],
   "source": []
  }
 ],
 "metadata": {
  "kernelspec": {
   "display_name": "Python 3 (ipykernel)",
   "language": "python",
   "name": "python3"
  },
  "language_info": {
   "codemirror_mode": {
    "name": "ipython",
    "version": 3
   },
   "file_extension": ".py",
   "mimetype": "text/x-python",
   "name": "python",
   "nbconvert_exporter": "python",
   "pygments_lexer": "ipython3",
   "version": "3.11.3"
  }
 },
 "nbformat": 4,
 "nbformat_minor": 5
}
